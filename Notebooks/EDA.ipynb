{
 "cells": [
  {
   "cell_type": "markdown",
   "id": "a01e2528",
   "metadata": {},
   "source": [
    "# Regional Sales Analysis – Exploratory Data Analysis (EDA)\n",
    "\n",
    "This notebook explores the Regional Sales Dataset (2014–2018) to uncover sales trends, \n",
    "profitability, and performance insights.  \n",
    "The analysis will include:\n",
    "\n",
    "- Data overview and cleaning  \n",
    "- Exploratory Data Analysis (EDA)  \n",
    "- 2017 Budgets vs. Actuals  \n",
    "- Key insights and recommendations  "
   ]
  },
  {
   "cell_type": "code",
   "execution_count": 1,
   "id": "0bab9b14",
   "metadata": {},
   "outputs": [],
   "source": [
    "# Import required libraries\n",
    "import pandas as pd\n",
    "import matplotlib \n",
    "import matplotlib.pyplot as plt\n",
    "import seaborn as sns"
   ]
  },
  {
   "cell_type": "code",
   "execution_count": 2,
   "id": "04759001",
   "metadata": {},
   "outputs": [],
   "source": [
    "# Load the Excel file\n",
    "file_path = \"../data/Regional Sales Dataset.xlsx\"  "
   ]
  },
  {
   "cell_type": "code",
   "execution_count": 3,
   "id": "98f7b6d6",
   "metadata": {},
   "outputs": [
    {
     "data": {
      "text/html": [
       "<div>\n",
       "<style scoped>\n",
       "    .dataframe tbody tr th:only-of-type {\n",
       "        vertical-align: middle;\n",
       "    }\n",
       "\n",
       "    .dataframe tbody tr th {\n",
       "        vertical-align: top;\n",
       "    }\n",
       "\n",
       "    .dataframe thead th {\n",
       "        text-align: right;\n",
       "    }\n",
       "</style>\n",
       "<table border=\"1\" class=\"dataframe\">\n",
       "  <thead>\n",
       "    <tr style=\"text-align: right;\">\n",
       "      <th></th>\n",
       "      <th>OrderNumber</th>\n",
       "      <th>OrderDate</th>\n",
       "      <th>Customer Name Index</th>\n",
       "      <th>Channel</th>\n",
       "      <th>Currency Code</th>\n",
       "      <th>Warehouse Code</th>\n",
       "      <th>Delivery Region Index</th>\n",
       "      <th>Product Description Index</th>\n",
       "      <th>Order Quantity</th>\n",
       "      <th>Unit Price</th>\n",
       "      <th>Line Total</th>\n",
       "      <th>Total Unit Cost</th>\n",
       "    </tr>\n",
       "  </thead>\n",
       "  <tbody>\n",
       "    <tr>\n",
       "      <th>0</th>\n",
       "      <td>SO - 000225</td>\n",
       "      <td>2014-01-01</td>\n",
       "      <td>126</td>\n",
       "      <td>Wholesale</td>\n",
       "      <td>USD</td>\n",
       "      <td>AXW291</td>\n",
       "      <td>364</td>\n",
       "      <td>27</td>\n",
       "      <td>6</td>\n",
       "      <td>2499.1</td>\n",
       "      <td>14994.6</td>\n",
       "      <td>1824.343</td>\n",
       "    </tr>\n",
       "    <tr>\n",
       "      <th>1</th>\n",
       "      <td>SO - 0003378</td>\n",
       "      <td>2014-01-01</td>\n",
       "      <td>96</td>\n",
       "      <td>Distributor</td>\n",
       "      <td>USD</td>\n",
       "      <td>AXW291</td>\n",
       "      <td>488</td>\n",
       "      <td>20</td>\n",
       "      <td>11</td>\n",
       "      <td>2351.7</td>\n",
       "      <td>25868.7</td>\n",
       "      <td>1269.918</td>\n",
       "    </tr>\n",
       "    <tr>\n",
       "      <th>2</th>\n",
       "      <td>SO - 0005126</td>\n",
       "      <td>2014-01-01</td>\n",
       "      <td>8</td>\n",
       "      <td>Wholesale</td>\n",
       "      <td>USD</td>\n",
       "      <td>AXW291</td>\n",
       "      <td>155</td>\n",
       "      <td>26</td>\n",
       "      <td>6</td>\n",
       "      <td>978.2</td>\n",
       "      <td>5869.2</td>\n",
       "      <td>684.740</td>\n",
       "    </tr>\n",
       "    <tr>\n",
       "      <th>3</th>\n",
       "      <td>SO - 0005614</td>\n",
       "      <td>2014-01-01</td>\n",
       "      <td>42</td>\n",
       "      <td>Export</td>\n",
       "      <td>USD</td>\n",
       "      <td>AXW291</td>\n",
       "      <td>473</td>\n",
       "      <td>7</td>\n",
       "      <td>7</td>\n",
       "      <td>2338.3</td>\n",
       "      <td>16368.1</td>\n",
       "      <td>1028.852</td>\n",
       "    </tr>\n",
       "    <tr>\n",
       "      <th>4</th>\n",
       "      <td>SO - 0005781</td>\n",
       "      <td>2014-01-01</td>\n",
       "      <td>73</td>\n",
       "      <td>Wholesale</td>\n",
       "      <td>USD</td>\n",
       "      <td>AXW291</td>\n",
       "      <td>256</td>\n",
       "      <td>8</td>\n",
       "      <td>8</td>\n",
       "      <td>2291.4</td>\n",
       "      <td>18331.2</td>\n",
       "      <td>1260.270</td>\n",
       "    </tr>\n",
       "  </tbody>\n",
       "</table>\n",
       "</div>"
      ],
      "text/plain": [
       "    OrderNumber  OrderDate  Customer Name Index      Channel Currency Code  \\\n",
       "0   SO - 000225 2014-01-01                  126    Wholesale           USD   \n",
       "1  SO - 0003378 2014-01-01                   96  Distributor           USD   \n",
       "2  SO - 0005126 2014-01-01                    8    Wholesale           USD   \n",
       "3  SO - 0005614 2014-01-01                   42       Export           USD   \n",
       "4  SO - 0005781 2014-01-01                   73    Wholesale           USD   \n",
       "\n",
       "  Warehouse Code  Delivery Region Index  Product Description Index  \\\n",
       "0         AXW291                    364                         27   \n",
       "1         AXW291                    488                         20   \n",
       "2         AXW291                    155                         26   \n",
       "3         AXW291                    473                          7   \n",
       "4         AXW291                    256                          8   \n",
       "\n",
       "   Order Quantity  Unit Price  Line Total  Total Unit Cost  \n",
       "0               6      2499.1     14994.6         1824.343  \n",
       "1              11      2351.7     25868.7         1269.918  \n",
       "2               6       978.2      5869.2          684.740  \n",
       "3               7      2338.3     16368.1         1028.852  \n",
       "4               8      2291.4     18331.2         1260.270  "
      ]
     },
     "execution_count": 3,
     "metadata": {},
     "output_type": "execute_result"
    }
   ],
   "source": [
    "# Read the \"Sales Orders\" sheet\n",
    "orders = pd.read_excel(file_path, sheet_name=\"Sales Orders\")\n",
    "\n",
    "# Preview the first 5 rows\n",
    "orders.head()"
   ]
  },
  {
   "cell_type": "code",
   "execution_count": 4,
   "id": "7803c2a2",
   "metadata": {},
   "outputs": [
    {
     "data": {
      "text/plain": [
       "(64104, 12)"
      ]
     },
     "execution_count": 4,
     "metadata": {},
     "output_type": "execute_result"
    }
   ],
   "source": [
    "# Dimensions of the dataset \n",
    "orders.shape "
   ]
  },
  {
   "cell_type": "code",
   "execution_count": 5,
   "id": "6b436ce3",
   "metadata": {},
   "outputs": [
    {
     "name": "stdout",
     "output_type": "stream",
     "text": [
      "<class 'pandas.core.frame.DataFrame'>\n",
      "RangeIndex: 64104 entries, 0 to 64103\n",
      "Data columns (total 12 columns):\n",
      " #   Column                     Non-Null Count  Dtype         \n",
      "---  ------                     --------------  -----         \n",
      " 0   OrderNumber                64104 non-null  object        \n",
      " 1   OrderDate                  64104 non-null  datetime64[ns]\n",
      " 2   Customer Name Index        64104 non-null  int64         \n",
      " 3   Channel                    64104 non-null  object        \n",
      " 4   Currency Code              64104 non-null  object        \n",
      " 5   Warehouse Code             64104 non-null  object        \n",
      " 6   Delivery Region Index      64104 non-null  int64         \n",
      " 7   Product Description Index  64104 non-null  int64         \n",
      " 8   Order Quantity             64104 non-null  int64         \n",
      " 9   Unit Price                 64104 non-null  float64       \n",
      " 10  Line Total                 64104 non-null  float64       \n",
      " 11  Total Unit Cost            64104 non-null  float64       \n",
      "dtypes: datetime64[ns](1), float64(3), int64(4), object(4)\n",
      "memory usage: 5.9+ MB\n"
     ]
    }
   ],
   "source": [
    "# Column details and datatypes\n",
    "orders.info()"
   ]
  },
  {
   "cell_type": "code",
   "execution_count": 6,
   "id": "e311b60e",
   "metadata": {},
   "outputs": [
    {
     "data": {
      "text/plain": [
       "<bound method NDFrame.describe of         OrderNumber  OrderDate  Customer Name Index      Channel  \\\n",
       "0       SO - 000225 2014-01-01                  126    Wholesale   \n",
       "1      SO - 0003378 2014-01-01                   96  Distributor   \n",
       "2      SO - 0005126 2014-01-01                    8    Wholesale   \n",
       "3      SO - 0005614 2014-01-01                   42       Export   \n",
       "4      SO - 0005781 2014-01-01                   73    Wholesale   \n",
       "...             ...        ...                  ...          ...   \n",
       "64099  SO - 0007573 2018-02-28                   74    Wholesale   \n",
       "64100  SO - 0007706 2018-02-28                   51       Export   \n",
       "64101  SO - 0007718 2018-02-28                  136  Distributor   \n",
       "64102  SO - 0008084 2018-02-28                  158  Distributor   \n",
       "64103  SO - 0008654 2018-02-28                   22  Distributor   \n",
       "\n",
       "      Currency Code Warehouse Code  Delivery Region Index  \\\n",
       "0               USD         AXW291                    364   \n",
       "1               USD         AXW291                    488   \n",
       "2               USD         AXW291                    155   \n",
       "3               USD         AXW291                    473   \n",
       "4               USD         AXW291                    256   \n",
       "...             ...            ...                    ...   \n",
       "64099           USD         AXW291                    825   \n",
       "64100           USD         NXH382                    444   \n",
       "64101           USD         AXW291                    312   \n",
       "64102           USD         AXW291                    737   \n",
       "64103           USD         AXW291                    807   \n",
       "\n",
       "       Product Description Index  Order Quantity  Unit Price  Line Total  \\\n",
       "0                             27               6      2499.1     14994.6   \n",
       "1                             20              11      2351.7     25868.7   \n",
       "2                             26               6       978.2      5869.2   \n",
       "3                              7               7      2338.3     16368.1   \n",
       "4                              8               8      2291.4     18331.2   \n",
       "...                          ...             ...         ...         ...   \n",
       "64099                         26              12      1815.7     21788.4   \n",
       "64100                         21               6       864.3      5185.8   \n",
       "64101                         13              11      3953.0     43483.0   \n",
       "64102                         20               7      3959.7     27717.9   \n",
       "64103                         15               8       998.3      7986.4   \n",
       "\n",
       "       Total Unit Cost  \n",
       "0             1824.343  \n",
       "1             1269.918  \n",
       "2              684.740  \n",
       "3             1028.852  \n",
       "4             1260.270  \n",
       "...                ...  \n",
       "64099          980.478  \n",
       "64100          579.081  \n",
       "64101         2648.510  \n",
       "64102         2930.178  \n",
       "64103          848.555  \n",
       "\n",
       "[64104 rows x 12 columns]>"
      ]
     },
     "execution_count": 6,
     "metadata": {},
     "output_type": "execute_result"
    }
   ],
   "source": [
    "# Statistical summary of numerical fields\n",
    "orders.describe"
   ]
  },
  {
   "cell_type": "markdown",
   "id": "a6353170",
   "metadata": {},
   "source": [
    "## Data Cleaning\n",
    "\n",
    "Before starting the analysis, we check for missing values, duplicated rows, \n",
    "and consistency of categorical fields. This ensures data quality for the EDA.\n"
   ]
  },
  {
   "cell_type": "code",
   "execution_count": 7,
   "id": "3cc9c20a",
   "metadata": {},
   "outputs": [
    {
     "data": {
      "text/plain": [
       "OrderNumber                  0\n",
       "OrderDate                    0\n",
       "Customer Name Index          0\n",
       "Channel                      0\n",
       "Currency Code                0\n",
       "Warehouse Code               0\n",
       "Delivery Region Index        0\n",
       "Product Description Index    0\n",
       "Order Quantity               0\n",
       "Unit Price                   0\n",
       "Line Total                   0\n",
       "Total Unit Cost              0\n",
       "dtype: int64"
      ]
     },
     "execution_count": 7,
     "metadata": {},
     "output_type": "execute_result"
    }
   ],
   "source": [
    "# Checking for missing values\n",
    "orders.isnull().sum()"
   ]
  },
  {
   "cell_type": "code",
   "execution_count": 8,
   "id": "871facf4",
   "metadata": {},
   "outputs": [
    {
     "data": {
      "text/plain": [
       "np.int64(0)"
      ]
     },
     "execution_count": 8,
     "metadata": {},
     "output_type": "execute_result"
    }
   ],
   "source": [
    "# Check for duplicates\n",
    "orders.duplicated().sum()"
   ]
  },
  {
   "cell_type": "code",
   "execution_count": 9,
   "id": "7f85605e",
   "metadata": {},
   "outputs": [
    {
     "data": {
      "text/plain": [
       "(array(['Wholesale', 'Distributor', 'Export'], dtype=object),\n",
       " array(['USD'], dtype=object))"
      ]
     },
     "execution_count": 9,
     "metadata": {},
     "output_type": "execute_result"
    }
   ],
   "source": [
    "# Quick look at unique values in categorical fields\n",
    "orders['Channel'].unique(), orders['Currency Code'].unique()"
   ]
  },
  {
   "cell_type": "markdown",
   "id": "c7cea16c",
   "metadata": {},
   "source": [
    "## Sales Trends Over Time\n",
    "\n",
    "We start by analyzing how sales evolved between 2014 and 2018.  \n",
    "This helps us identify growth patterns, seasonal changes, and overall performance.\n"
   ]
  },
  {
   "cell_type": "code",
   "execution_count": 10,
   "id": "4a3dd2bf",
   "metadata": {},
   "outputs": [
    {
     "data": {
      "image/png": "[encoded data removed]",
      "text/plain": [
       "<Figure size 700x400 with 1 Axes>"
      ]
     },
     "metadata": {},
     "output_type": "display_data"
    },
    {
     "data": {
      "text/plain": [
       "Year\n",
       "2014    297520729.3\n",
       "2015    298410710.4\n",
       "2016    298083670.0\n",
       "2017    293823836.8\n",
       "2018     48129952.5\n",
       "Name: Line Total, dtype: float64"
      ]
     },
     "execution_count": 10,
     "metadata": {},
     "output_type": "execute_result"
    }
   ],
   "source": [
    "# Ensure OrderDate is in datetime format\n",
    "orders['OrderDate'] = pd.to_datetime(orders['OrderDate'])\n",
    "\n",
    "# Extract year\n",
    "orders['Year'] = orders['OrderDate'].dt.year\n",
    "\n",
    "# Aggregate sales by year\n",
    "sales_by_year = orders.groupby('Year')['Line Total'].sum()\n",
    "\n",
    "# Plot sales by year\n",
    "plt.figure(figsize=(7,4))\n",
    "sales_by_year.plot(kind='bar')\n",
    "plt.title(\"Total Sales by Year\")\n",
    "plt.ylabel(\"Sales (USD)\")\n",
    "plt.xlabel(\"Year\")\n",
    "plt.show()\n",
    "\n",
    "sales_by_year\n"
   ]
  },
  {
   "cell_type": "markdown",
   "id": "c4646a32",
   "metadata": {},
   "source": [
    "**Insights:**\n",
    "- Sales remained stable between 2014–2016 (around ~298M USD annually).  \n",
    "- In 2017, sales slightly decreased (~293M USD).  \n",
    "- In 2018, sales dropped significantly (~48M USD).  \n",
    "\n",
    "This sharp decline in 2018 could be due to incomplete data for that year  \n",
    "or a real market downturn. Further investigation is required.  "
   ]
  },
  {
   "cell_type": "code",
   "execution_count": 11,
   "id": "03f6fa54",
   "metadata": {},
   "outputs": [
    {
     "data": {
      "image/png": "[encoded data removed]",
      "text/plain": [
       "<Figure size 700x500 with 1 Axes>"
      ]
     },
     "metadata": {},
     "output_type": "display_data"
    },
    {
     "data": {
      "text/plain": [
       "Product Description Index\n",
       "26    117291821.4\n",
       "25    109473966.6\n",
       "13     78281379.6\n",
       "14     75390396.6\n",
       "5      70804380.6\n",
       "15     67331623.2\n",
       "2      57401097.6\n",
       "4      56701537.2\n",
       "1      55952289.6\n",
       "3      51764816.4\n",
       "Name: Line Total, dtype: float64"
      ]
     },
     "execution_count": 11,
     "metadata": {},
     "output_type": "execute_result"
    }
   ],
   "source": [
    "# Aggregate sales by product\n",
    "top_products = (\n",
    "    orders.groupby('Product Description Index')['Line Total']\n",
    "    .sum()\n",
    "    .sort_values(ascending=False)\n",
    "    .head(10)\n",
    ")\n",
    "\n",
    "# Plot top 10 products\n",
    "top_products.plot(kind='barh', figsize=(7,5), color=\"orange\", edgecolor='black')\n",
    "\n",
    "plt.title(\"Top 10 Products by Sales\")\n",
    "plt.xlabel(\"Sales (USD)\")\n",
    "plt.ylabel(\"Product ID\")\n",
    "plt.gca().invert_yaxis()  # highest at the top\n",
    "plt.show()\n",
    "\n",
    "# Display aggregated values\n",
    "top_products"
   ]
  },
  {
   "cell_type": "markdown",
   "id": "de3835c1",
   "metadata": {},
   "source": [
    "**Insights:**\n",
    "- The top 3 products contribute a significant portion of total revenue.  \n",
    "- Sales are concentrated in a few high-performing products,  \n",
    "  which may indicate dependency on limited SKUs.  \n",
    "- Lower-ranked products contribute less, suggesting an opportunity  \n",
    "  to optimize or reconsider their presence in the catalog.  "
   ]
  },
  {
   "cell_type": "markdown",
   "id": "cca34430",
   "metadata": {},
   "source": [
    "--------------------------------------------------------------------------------------------------------------------------------------------------------"
   ]
  },
  {
   "cell_type": "markdown",
   "id": "682025d7",
   "metadata": {},
   "source": [
    "## Sales by Channel\n",
    "\n",
    "We now analyze total sales by channel (e.g., Wholesale, Distributor, Export).  \n",
    "This shows how much each channel contributes to overall revenue and can help  \n",
    "the business evaluate performance by distribution strategy.  \n"
   ]
  },
  {
   "cell_type": "code",
   "execution_count": 12,
   "id": "9034b35b",
   "metadata": {},
   "outputs": [
    {
     "data": {
      "image/png": "[encoded data removed]",
      "text/plain": [
       "<Figure size 600x400 with 1 Axes>"
      ]
     },
     "metadata": {},
     "output_type": "display_data"
    },
    {
     "data": {
      "text/plain": [
       "Channel\n",
       "Wholesale      668197244.4\n",
       "Distributor    387139788.6\n",
       "Export         180631866.0\n",
       "Name: Line Total, dtype: float64"
      ]
     },
     "execution_count": 12,
     "metadata": {},
     "output_type": "execute_result"
    }
   ],
   "source": [
    "# Aggregate sales by channel\n",
    "sales_by_channel = orders.groupby('Channel')['Line Total'].sum().sort_values(ascending=False)\n",
    "\n",
    "# Plot sales by channel\n",
    "sales_by_channel.plot(kind='bar', figsize=(6,4), color=\"seagreen\", edgecolor=\"black\")\n",
    "\n",
    "plt.title(\"Total Sales by Channel\")\n",
    "plt.ylabel(\"Sales (USD)\")\n",
    "plt.xlabel(\"Channel\")\n",
    "plt.xticks(rotation=45)\n",
    "plt.show()\n",
    "\n",
    "# Display aggregated values\n",
    "sales_by_channel"
   ]
  },
  {
   "cell_type": "markdown",
   "id": "01685ac4",
   "metadata": {},
   "source": [
    "**Insights:**\n",
    "- One channel clearly dominates overall sales, representing the majority of revenue.  \n",
    "- Other channels, while smaller in comparison, still provide diversification.  \n",
    "- This distribution suggests the company may depend heavily on one channel,  \n",
    "  which could be a risk if market conditions change.  \n"
   ]
  },
  {
   "cell_type": "markdown",
   "id": "a6aba905",
   "metadata": {},
   "source": [
    "--------------------------------------------------------------------------------------------------------------------------------------------------------"
   ]
  },
  {
   "cell_type": "markdown",
   "id": "f8f79e85",
   "metadata": {},
   "source": [
    "## Regional Performance\n",
    "\n",
    "To better understand geographic performance, we analyze sales aggregated by region.  \n",
    "This allows us to see which regions generate the highest revenue and identify  \n",
    "opportunities for expansion or improvement.  "
   ]
  },
  {
   "cell_type": "code",
   "execution_count": 13,
   "id": "dd145913",
   "metadata": {},
   "outputs": [
    {
     "ename": "NameError",
     "evalue": "name 'regions' is not defined",
     "output_type": "error",
     "traceback": [
      "\u001b[1;31m---------------------------------------------------------------------------\u001b[0m",
      "\u001b[1;31mNameError\u001b[0m                                 Traceback (most recent call last)",
      "Cell \u001b[1;32mIn[13], line 2\u001b[0m\n\u001b[0;32m      1\u001b[0m \u001b[38;5;66;03m# Check first rows of Regions table\u001b[39;00m\n\u001b[1;32m----> 2\u001b[0m regions\u001b[38;5;241m.\u001b[39mhead()\n",
      "\u001b[1;31mNameError\u001b[0m: name 'regions' is not defined"
     ]
    }
   ],
   "source": [
    "# Check first rows of Regions table\n",
    "regions.head()\n"
   ]
  },
  {
   "cell_type": "code",
   "execution_count": null,
   "id": "cbeca6d9",
   "metadata": {},
   "outputs": [
    {
     "data": {
      "image/png": "[encoded data removed]",
      "text/plain": [
       "<Figure size 700x400 with 1 Axes>"
      ]
     },
     "metadata": {},
     "output_type": "display_data"
    },
    {
     "data": {
      "text/plain": [
       "state\n",
       "California       228785436.0\n",
       "Illinois         111050965.7\n",
       "Florida           90204679.5\n",
       "Texas             84011903.0\n",
       "New York          55534960.0\n",
       "Indiana           54601690.2\n",
       "New Jersey        46830956.5\n",
       "Connecticut       44251228.7\n",
       "Michigan          39025315.8\n",
       "Massachusetts     35011942.1\n",
       "Name: Line Total, dtype: float64"
      ]
     },
     "execution_count": 27,
     "metadata": {},
     "output_type": "execute_result"
    }
   ],
   "source": [
    "# Top 10 states by sales\n",
    "top_states = sales_by_state.head(10)\n",
    "\n",
    "# Plot only Top 10\n",
    "top_states.plot(kind='bar', figsize=(7,4), color=\"steelblue\", edgecolor=\"black\")\n",
    "\n",
    "plt.title(\"Top 10 States by Sales\")\n",
    "plt.ylabel(\"Sales (USD)\")\n",
    "plt.xlabel(\"State\")\n",
    "plt.xticks(rotation=45)\n",
    "plt.show()\n",
    "\n",
    "top_states"
   ]
  },
  {
   "cell_type": "markdown",
   "id": "a291e083",
   "metadata": {},
   "source": [
    "## Regional Performance (by State)\n",
    "\n",
    "**Insights:**\n",
    "- California leads by a wide margin, contributing over 220M USD in sales.  \n",
    "- Illinois, Florida, and Texas follow, each exceeding 80M USD.  \n",
    "- Sales are highly concentrated in the top states, suggesting  \n",
    "  that business performance is strongly linked to a few regions.  \n",
    "- Lower-performing states contribute marginally, representing  \n",
    "  potential opportunities for market expansion.  \n"
   ]
  },
  {
   "cell_type": "markdown",
   "id": "fbb4ef84",
   "metadata": {},
   "source": [
    "--------------------------------------------------------------------------------------------------------------------------------------------------------"
   ]
  },
  {
   "cell_type": "markdown",
   "id": "b55cdb7c",
   "metadata": {},
   "source": [
    "## Regional Performance (by City)\n",
    "\n",
    "We also analyze sales aggregated by city to get a more detailed view.  \n",
    "This shows which specific locations drive the highest revenue.  \n"
   ]
  },
  {
   "cell_type": "code",
   "execution_count": null,
   "id": "b0867803",
   "metadata": {},
   "outputs": [
    {
     "data": {
      "image/png": "[encoded data removed]",
      "text/plain": [
       "<Figure size 700x500 with 1 Axes>"
      ]
     },
     "metadata": {},
     "output_type": "display_data"
    },
    {
     "data": {
      "text/plain": [
       "name\n",
       "Lakewood       6595332.6\n",
       "Springfield    6330421.3\n",
       "Jackson        4010318.5\n",
       "Bloomington    3988329.1\n",
       "Fairfield      3986111.4\n",
       "Concord        3943847.8\n",
       "Wayne          3842222.2\n",
       "Albany         3759993.1\n",
       "Columbia       3700034.8\n",
       "Washington     3506022.9\n",
       "Name: Line Total, dtype: float64"
      ]
     },
     "execution_count": 28,
     "metadata": {},
     "output_type": "execute_result"
    }
   ],
   "source": [
    "# Aggregate sales by city (name)\n",
    "sales_by_city = (\n",
    "    orders_regions.groupby('name')['Line Total']\n",
    "    .sum()\n",
    "    .sort_values(ascending=False)\n",
    ")\n",
    "\n",
    "# Top 10 cities by sales\n",
    "top_cities = sales_by_city.head(10)\n",
    "\n",
    "# Plot\n",
    "top_cities.plot(kind='barh', figsize=(7,5), color=\"darkorange\", edgecolor=\"black\")\n",
    "\n",
    "plt.title(\"Top 10 Cities by Sales\")\n",
    "plt.xlabel(\"Sales (USD)\")\n",
    "plt.ylabel(\"City\")\n",
    "plt.gca().invert_yaxis()  # highest at the top\n",
    "plt.show()\n",
    "\n",
    "top_cities\n"
   ]
  },
  {
   "cell_type": "markdown",
   "id": "7f50f6ba",
   "metadata": {},
   "source": [
    "**Insights:**\n",
    "- A few major cities account for the majority of sales.  \n",
    "- The leading city significantly outperforms the others,  \n",
    "  showing strong concentration of revenue.  \n",
    "- Mid-ranked cities contribute moderately,  \n",
    "  while smaller cities have minimal impact.  \n",
    "- This highlights the importance of focusing resources  \n",
    "  on top-performing urban areas.  \n"
   ]
  },
  {
   "cell_type": "markdown",
   "id": "213dd566",
   "metadata": {},
   "source": [
    "## 2017 Budgets vs Actual Sales\n",
    "\n",
    "The dataset contains a separate sheet for *2017 Budgets*, which provides planned \n",
    "financial targets for that year.  \n",
    "We compare these budgeted values against actual 2017 sales to evaluate performance.  \n"
   ]
  },
  {
   "cell_type": "code",
   "execution_count": 22,
   "id": "ddfe04c6",
   "metadata": {},
   "outputs": [
    {
     "data": {
      "text/html": [
       "<div>\n",
       "<style scoped>\n",
       "    .dataframe tbody tr th:only-of-type {\n",
       "        vertical-align: middle;\n",
       "    }\n",
       "\n",
       "    .dataframe tbody tr th {\n",
       "        vertical-align: top;\n",
       "    }\n",
       "\n",
       "    .dataframe thead th {\n",
       "        text-align: right;\n",
       "    }\n",
       "</style>\n",
       "<table border=\"1\" class=\"dataframe\">\n",
       "  <thead>\n",
       "    <tr style=\"text-align: right;\">\n",
       "      <th></th>\n",
       "      <th>Product Name</th>\n",
       "      <th>2017 Budgets</th>\n",
       "      <th>Actual Sales</th>\n",
       "      <th>Variance</th>\n",
       "    </tr>\n",
       "  </thead>\n",
       "  <tbody>\n",
       "    <tr>\n",
       "      <th>0</th>\n",
       "      <td>Product 1</td>\n",
       "      <td>3016489.209</td>\n",
       "      <td>12419361.2</td>\n",
       "      <td>9.402872e+06</td>\n",
       "    </tr>\n",
       "    <tr>\n",
       "      <th>1</th>\n",
       "      <td>Product 2</td>\n",
       "      <td>3050087.565</td>\n",
       "      <td>13779327.2</td>\n",
       "      <td>1.072924e+07</td>\n",
       "    </tr>\n",
       "    <tr>\n",
       "      <th>2</th>\n",
       "      <td>Product 3</td>\n",
       "      <td>2642352.432</td>\n",
       "      <td>11652130.8</td>\n",
       "      <td>9.009778e+06</td>\n",
       "    </tr>\n",
       "    <tr>\n",
       "      <th>3</th>\n",
       "      <td>Product 4</td>\n",
       "      <td>2885560.824</td>\n",
       "      <td>13587037.2</td>\n",
       "      <td>1.070148e+07</td>\n",
       "    </tr>\n",
       "    <tr>\n",
       "      <th>4</th>\n",
       "      <td>Product 5</td>\n",
       "      <td>3925424.542</td>\n",
       "      <td>16949251.3</td>\n",
       "      <td>1.302383e+07</td>\n",
       "    </tr>\n",
       "  </tbody>\n",
       "</table>\n",
       "</div>"
      ],
      "text/plain": [
       "  Product Name  2017 Budgets  Actual Sales      Variance\n",
       "0    Product 1   3016489.209    12419361.2  9.402872e+06\n",
       "1    Product 2   3050087.565    13779327.2  1.072924e+07\n",
       "2    Product 3   2642352.432    11652130.8  9.009778e+06\n",
       "3    Product 4   2885560.824    13587037.2  1.070148e+07\n",
       "4    Product 5   3925424.542    16949251.3  1.302383e+07"
      ]
     },
     "execution_count": 22,
     "metadata": {},
     "output_type": "execute_result"
    }
   ],
   "source": [
    "# Load Products table\n",
    "products = pd.read_excel(file_path, sheet_name=\"Products\")\n",
    "\n",
    "# Merge Orders with Products to bring Product Name\n",
    "orders_products = orders.merge(products, \n",
    "                               left_on=\"Product Description Index\", \n",
    "                               right_on=\"Index\")\n",
    "\n",
    "# Filter only 2017 sales\n",
    "orders_2017 = orders_products[orders_products['Year'] == 2017]\n",
    "\n",
    "# Aggregate actual sales by Product Name\n",
    "actual_2017 = (\n",
    "    orders_2017.groupby('Product Name')['Line Total']\n",
    "    .sum()\n",
    "    .reset_index()\n",
    "    .rename(columns={'Line Total': 'Actual Sales'})\n",
    ")\n",
    "\n",
    "# Load 2017 Budgets sheet\n",
    "budgets_2017 = pd.read_excel(file_path, sheet_name=\"2017 Budgets\")\n",
    "\n",
    "# Merge budgets with actuals on Product Name\n",
    "budget_vs_actual = budgets_2017.merge(\n",
    "    actual_2017, \n",
    "    on=\"Product Name\", \n",
    "    how=\"left\"\n",
    ")\n",
    "\n",
    "# Fill NaN actuals with 0 (if a product had no sales in 2017)\n",
    "budget_vs_actual['Actual Sales'] = budget_vs_actual['Actual Sales'].fillna(0)\n",
    "\n",
    "# Calculate variance (Actual - Budget)\n",
    "budget_vs_actual['Variance'] = budget_vs_actual['Actual Sales'] - budget_vs_actual['2017 Budgets']\n",
    "\n",
    "budget_vs_actual.head()\n"
   ]
  },
  {
   "cell_type": "code",
   "execution_count": 23,
   "id": "32fe8dd9",
   "metadata": {},
   "outputs": [
    {
     "data": {
      "image/png": "[encoded data removed]",
      "text/plain": [
       "<Figure size 1000x500 with 1 Axes>"
      ]
     },
     "metadata": {},
     "output_type": "display_data"
    }
   ],
   "source": [
    "# Top 10 products by budget\n",
    "top_budget_products = budget_vs_actual.sort_values(by=\"2017 Budgets\", ascending=False).head(10)\n",
    "\n",
    "# Plot comparison\n",
    "top_budget_products.plot(\n",
    "    x=\"Product Name\", \n",
    "    y=[\"2017 Budgets\", \"Actual Sales\"], \n",
    "    kind=\"bar\", \n",
    "    figsize=(10,5)\n",
    ")\n",
    "\n",
    "plt.title(\"2017 Budget vs Actual Sales (Top 10 Products)\")\n",
    "plt.ylabel(\"Sales (USD)\")\n",
    "plt.xlabel(\"Product\")\n",
    "plt.xticks(rotation=45, ha=\"right\")\n",
    "plt.show()\n"
   ]
  },
  {
   "cell_type": "markdown",
   "id": "cee00c71",
   "metadata": {},
   "source": [
    "**Insights:**\n",
    "- Some products exceeded their 2017 budget, showing strong demand.  \n",
    "- Several products underperformed significantly, with actual sales far below the plan.  \n",
    "- The variance analysis highlights which products may have been overestimated or underestimated.  \n",
    "- These results provide valuable feedback for future forecasting and planning.  \n"
   ]
  }
 ],
 "metadata": {
  "kernelspec": {
   "display_name": "base",
   "language": "python",
   "name": "python3"
  },
  "language_info": {
   "codemirror_mode": {
    "name": "ipython",
    "version": 3
   },
   "file_extension": ".py",
   "mimetype": "text/x-python",
   "name": "python",
   "nbconvert_exporter": "python",
   "pygments_lexer": "ipython3",
   "version": "3.13.5"
  }
 },
 "nbformat": 4,
 "nbformat_minor": 5
}
